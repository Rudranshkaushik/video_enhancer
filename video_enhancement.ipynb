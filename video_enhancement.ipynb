{
  "nbformat": 4,
  "nbformat_minor": 0,
  "metadata": {
    "colab": {
      "provenance": []
    },
    "kernelspec": {
      "name": "python3",
      "display_name": "Python 3"
    },
    "language_info": {
      "name": "python"
    }
  },
  "cells": [
    {
      "cell_type": "code",
      "execution_count": null,
      "metadata": {
        "id": "dmDAAQBnxp50"
      },
      "outputs": [],
      "source": [
        "import cv2"
      ]
    },
    {
      "cell_type": "code",
      "source": [
        "input_video_path = '/content/test1.mp4'\n",
        "cap = cv2.VideoCapture(input_video_path)"
      ],
      "metadata": {
        "id": "cyowU2azx_Q4"
      },
      "execution_count": null,
      "outputs": []
    },
    {
      "cell_type": "code",
      "source": [
        "fps = cap.get(cv2.CAP_PROP_FPS)\n",
        "width = int(cap.get(cv2.CAP_PROP_FRAME_WIDTH))\n",
        "height = int(cap.get(cv2.CAP_PROP_FRAME_HEIGHT))"
      ],
      "metadata": {
        "id": "g7cT3JwAyc3h"
      },
      "execution_count": null,
      "outputs": []
    },
    {
      "cell_type": "code",
      "source": [
        "output_video_path = 'output_video.avi'\n",
        "fourcc = cv2.VideoWriter_fourcc(*'XVID')\n",
        "out = cv2.VideoWriter(output_video_path, fourcc, fps, (width * 2, height * 2))\n"
      ],
      "metadata": {
        "id": "GZ-z__3MyePl"
      },
      "execution_count": null,
      "outputs": []
    },
    {
      "cell_type": "code",
      "source": [
        "while True:\n",
        "    ret, frame = cap.read()\n",
        "    if not ret:\n",
        "        break\n",
        "\n",
        "    # Upscale the frame using linear interpolation\n",
        "    upscaled_frame = cv2.resize(frame, (width * 2, height * 2), interpolation=cv2.INTER_LINEAR)\n",
        "\n",
        "    # Write the upscaled frame to the output video file\n",
        "    out.write(upscaled_frame)"
      ],
      "metadata": {
        "id": "NIv7UMOvywuQ"
      },
      "execution_count": null,
      "outputs": []
    }
  ]
}